{
 "cells": [
  {
   "cell_type": "markdown",
   "metadata": {},
   "source": [
    "# Tutorial for making a ship (KT model)\n",
    "\n",
    "---\n",
    "- Ship models other than `EssoOsaka3mMMG` and `Takaoki3mMMG` can be incorporated into `pyshipsim` by implementing the models yourself. \n",
    "- In this notebook, we explain how to implement new models through the implementation of the KT model."
   ]
  },
  {
   "cell_type": "markdown",
   "metadata": {},
   "source": [
    "### Import library"
   ]
  },
  {
   "cell_type": "code",
   "execution_count": 1,
   "metadata": {},
   "outputs": [
    {
     "name": "stdout",
     "output_type": "stream",
     "text": [
      "Intel MKL WARNING: Support of Intel(R) Streaming SIMD Extensions 4.2 (Intel(R) SSE4.2) enabled only processors has been deprecated. Intel oneAPI Math Kernel Library 2025.0 will require Intel(R) Advanced Vector Extensions (Intel(R) AVX) instructions.\n",
      "Intel MKL WARNING: Support of Intel(R) Streaming SIMD Extensions 4.2 (Intel(R) SSE4.2) enabled only processors has been deprecated. Intel oneAPI Math Kernel Library 2025.0 will require Intel(R) Advanced Vector Extensions (Intel(R) AVX) instructions.\n",
      "ImportError: Import of esso_osaka_3m's f2py mpdule failed.\n",
      "ImportError: Import of esso_osaka_3m's f2py mpdule failed.\n",
      "ImportError: Import of takaoki_3m's f2py mpdule failed.\n"
     ]
    }
   ],
   "source": [
    "import warnings\n",
    "import numpy as np\n",
    "from IPython.display import Image\n",
    "\n",
    "import pyshipsim\n",
    "from utils import font_setting\n",
    "\n",
    "warnings.simplefilter('ignore')\n",
    "font_setting()"
   ]
  },
  {
   "cell_type": "markdown",
   "metadata": {},
   "source": [
    "# How to create new ship model\n",
    "\n",
    "`pyshipsim` implements several modules necessary for simulation of ship maneuvering motion.\n",
    "- `SurfaceShip` class : Defines state and control variables of the ship, maneuvering equations of motion, actuator response models, etc.\n",
    "- `World` class : Defines state variables of the environment (wind and obstacles). Mainly, generation of irregular winds, collision detection with obstacles, etc. are implemented.\n",
    "- `ManeuveringSimulation` class : Simulates ship maneuvering motion based on `SurfaceShip` and `World` instance variables.\n",
    "\n",
    "To implement a new ship model not included in `pyshipsim/ship/assets/`, it is necessary to define a new class that inherits from the `SurfaceShip` class. A new ship model that inherits from the `SurfaceShip` class must obey the following rules\n",
    "- State variables, action variables, observation variables, and some principal particulars (L and B) must be defined in the `__init__` constructor.\n",
    "- The equations of motion (and the response model of the actuator) must be defined in the `ode_rhs` method.\n",
    "- The observation equations or observation models must be defined in the `observe_state` method.\n",
    "- The ship polygon for collision detection must be defined in the method `ship_shape`.\n",
    "- The ship polygon for visualization must be defined in the `ship_appearance` method."
   ]
  },
  {
   "cell_type": "markdown",
   "metadata": {},
   "source": [
    "1. Define a class that inherits from the `SurfaceShip` clas as follows:"
   ]
  },
  {
   "cell_type": "code",
   "execution_count": 2,
   "metadata": {},
   "outputs": [],
   "source": [
    "from pyshipsim import SurfaceShip\n",
    "\n",
    "class MyKTModel(SurfaceShip):\n",
    "    pass"
   ]
  },
  {
   "cell_type": "markdown",
   "metadata": {},
   "source": [
    "2. Define model parameters and register variables using the `reg_principal_particular`, `reg_state_var`, `reg_action_var` and `reg_observation_var` methods."
   ]
  },
  {
   "cell_type": "code",
   "execution_count": 3,
   "metadata": {},
   "outputs": [],
   "source": [
    "class MyKTModel(SurfaceShip):\n",
    "    def __init__(self, solve_method: str = \"euler\"):\n",
    "        super().__init__(solve_method)\n",
    "        # model parameter\n",
    "        self.K = 0.21\n",
    "        self.T = 8.8\n",
    "        # register L and B\n",
    "        self.reg_principal_particular(L=3.0, B=0.48925)\n",
    "        # register state variables\n",
    "        self.reg_state_var(name=\"x_position_mid [m]\", ub=np.inf, lb=-np.inf)\n",
    "        self.reg_state_var(name=\"u_velo [m/s]\", ub=np.inf, lb=-np.inf)\n",
    "        self.reg_state_var(name=\"y_position_mid [m]\", ub=np.inf, lb=-np.inf)\n",
    "        self.reg_state_var(name=\"vm_velo [m/s]\", ub=np.inf, lb=-np.inf)\n",
    "        self.reg_state_var(name=\"psi [rad]\", ub=np.inf, lb=-np.inf)\n",
    "        self.reg_state_var(name=\"r_angvelo [rad/s]\", ub=np.inf, lb=-np.inf)\n",
    "        self.reg_state_var(name=\"delta_rudder [rad]\", ub=np.deg2rad(35), lb=-np.deg2rad(35))\n",
    "        # register action variables\n",
    "        self.reg_action_var(name=\"delta_rudder_cmd [rad]\", ub=np.deg2rad(35), lb=-np.deg2rad(35))\n",
    "        # register observation variables\n",
    "        self.reg_observation_var(name=\"x_position_mid_hat [m]\", ub=np.inf, lb=-np.inf)\n",
    "        self.reg_observation_var(name=\"u_velo_hat [m/s]\", ub=np.inf, lb=-np.inf)\n",
    "        self.reg_observation_var(name=\"y_position_mid_hat [m]\", ub=np.inf, lb=-np.inf)\n",
    "        self.reg_observation_var(name=\"vm_velo_hat [m/s]\", ub=np.inf, lb=-np.inf)\n",
    "        self.reg_observation_var(name=\"psi_hat [rad]\", ub=np.inf, lb=-np.inf)\n",
    "        self.reg_observation_var(name=\"r_angvelo_hat [rad/s]\", ub=np.inf, lb=-np.inf)\n",
    "        self.reg_observation_var(name=\"delta_rudder_hat [rad]\", ub=np.deg2rad(35), lb=-np.deg2rad(35))\n"
   ]
  },
  {
   "cell_type": "markdown",
   "metadata": {},
   "source": [
    "3. Define the equations of motion and and the response model of the actuator in the `ode_rhs` method."
   ]
  },
  {
   "cell_type": "code",
   "execution_count": 4,
   "metadata": {},
   "outputs": [],
   "source": [
    "# You can use any of the models implemented in pyshipsim.\n",
    "from pyshipsim import linear_delay_ode_rhs, first_order_delay_ode_rhs\n",
    "\n",
    "\n",
    "class MyKTModel(SurfaceShip):\n",
    "    def __init__(self, solve_method: str = \"euler\"):\n",
    "        pass\n",
    "    \n",
    "    def ode_rhs(self, state, action):\n",
    "        x_0, u, y_0, vm, psi, r, delta = state\n",
    "        delta_cmd, U_T, gamma_T = action\n",
    "        # \n",
    "        derivative_state = np.empty_like(state)\n",
    "        derivative_state[0] = u * np.cos(psi) - vm * np.sin(psi)\n",
    "        derivative_state[1] = 0\n",
    "        derivative_state[2] = u * np.sin(psi) + vm * np.cos(psi)\n",
    "        derivative_state[3] = 0\n",
    "        derivative_state[4] = r\n",
    "        derivative_state[5] = - 1/self.T * r + self.K/self.T * delta \n",
    "        derivative_state[6] = linear_delay_ode_rhs(delta, delta_cmd, K=np.deg2rad(20))\n",
    "        return derivative_state\n"
   ]
  },
  {
   "cell_type": "markdown",
   "metadata": {},
   "source": [
    "4. Define the observation equations or observation models in `observe_state` method."
   ]
  },
  {
   "cell_type": "code",
   "execution_count": 5,
   "metadata": {},
   "outputs": [],
   "source": [
    "class MyKTModel(SurfaceShip):\n",
    "    def __init__(self, solve_method: str = \"euler\"):\n",
    "        pass\n",
    "\n",
    "    def ode_rhs(self, state, action):\n",
    "        pass\n",
    "\n",
    "    def observe_state(self, np_random = None):\n",
    "        # If you want to generate normal distribution noise, you can use the `additive_normal_noise` method implemented in the `SurfaceShip` class.\n",
    "        scale = [0.03, 0.01, 0.03, 0.01, np.deg2rad(0.1), np.deg2rad(0.1), 0.0]\n",
    "        return self.additive_normal_noise(self.state, scale, np_random=np_random)\n"
   ]
  },
  {
   "cell_type": "markdown",
   "metadata": {},
   "source": [
    "5. Define ship polygon in `ship_shape` and `ship_appearance` method."
   ]
  },
  {
   "cell_type": "code",
   "execution_count": 6,
   "metadata": {},
   "outputs": [],
   "source": [
    "# The functions to generate polygons are implemented in pyshipsim and you can use any of the following functions\n",
    "from pyshipsim import simple_ship_poly, detail_ship_poly, rectangle_ship_poly, ellipse_ship_poly\n",
    "\n",
    "\n",
    "class MyKTModel(SurfaceShip):\n",
    "    def __init__(self, solve_method: str = \"euler\"):\n",
    "        pass\n",
    "\n",
    "    def ode_rhs(self, state, action):\n",
    "        pass\n",
    "\n",
    "    def observe_state(self, np_random = None):\n",
    "        pass\n",
    "\n",
    "    def ship_shape(self, state):\n",
    "        eta = state[[0, 2, 4]]\n",
    "        polygon = rectangle_ship_poly(eta, self.L, self.B)\n",
    "        return polygon\n",
    "\n",
    "    def ship_appearance(self, state):\n",
    "        eta = state[[0, 2, 4]]\n",
    "        polygon = simple_ship_poly(eta, self.L, self.B)\n",
    "        return polygon\n",
    "    "
   ]
  },
  {
   "cell_type": "markdown",
   "metadata": {},
   "source": [
    "## Overview for creating a new ship model"
   ]
  },
  {
   "cell_type": "code",
   "execution_count": 7,
   "metadata": {},
   "outputs": [
    {
     "data": {
      "image/png": "[encoded data removed]",
      "text/plain": [
       "<IPython.core.display.Image object>"
      ]
     },
     "execution_count": 7,
     "metadata": {},
     "output_type": "execute_result"
    }
   ],
   "source": [
    "class MyKTModel(SurfaceShip):\n",
    "    def __init__(self, solve_method: str = \"euler\"):\n",
    "        super().__init__(solve_method)\n",
    "        # model parameter\n",
    "        self.K = 0.21\n",
    "        self.T = 8.8\n",
    "        # register L and B\n",
    "        self.reg_principal_particular(L=3.0, B=0.48925)\n",
    "        # register state variables\n",
    "        self.reg_state_var(name=\"x_position_mid [m]\", ub=np.inf, lb=-np.inf)\n",
    "        self.reg_state_var(name=\"u_velo [m/s]\", ub=np.inf, lb=-np.inf)\n",
    "        self.reg_state_var(name=\"y_position_mid [m]\", ub=np.inf, lb=-np.inf)\n",
    "        self.reg_state_var(name=\"vm_velo [m/s]\", ub=np.inf, lb=-np.inf)\n",
    "        self.reg_state_var(name=\"psi [rad]\", ub=np.inf, lb=-np.inf)\n",
    "        self.reg_state_var(name=\"r_angvelo [rad/s]\", ub=np.inf, lb=-np.inf)\n",
    "        self.reg_state_var(name=\"delta_rudder [rad]\", ub=np.deg2rad(35), lb=-np.deg2rad(35))\n",
    "        # register action variables\n",
    "        self.reg_action_var(name=\"delta_rudder_cmd [rad]\", ub=np.deg2rad(35), lb=-np.deg2rad(35))\n",
    "        # register observation variables\n",
    "        self.reg_observation_var(name=\"x_position_mid_hat [m]\", ub=np.inf, lb=-np.inf)\n",
    "        self.reg_observation_var(name=\"u_velo_hat [m/s]\", ub=np.inf, lb=-np.inf)\n",
    "        self.reg_observation_var(name=\"y_position_mid_hat [m]\", ub=np.inf, lb=-np.inf)\n",
    "        self.reg_observation_var(name=\"vm_velo_hat [m/s]\", ub=np.inf, lb=-np.inf)\n",
    "        self.reg_observation_var(name=\"psi_hat [rad]\", ub=np.inf, lb=-np.inf)\n",
    "        self.reg_observation_var(name=\"r_angvelo_hat [rad/s]\", ub=np.inf, lb=-np.inf)\n",
    "        self.reg_observation_var(name=\"delta_rudder_hat [rad]\", ub=np.deg2rad(35), lb=-np.deg2rad(35))\n",
    "\n",
    "    def ode_rhs(self, state, action):\n",
    "        x_0, u, y_0, vm, psi, r, delta = state\n",
    "        delta_cmd, U_T, gamma_T = action\n",
    "        # \n",
    "        derivative_state = np.empty_like(state)\n",
    "        derivative_state[0] = u * np.cos(psi) - vm * np.sin(psi)\n",
    "        derivative_state[1] = 0\n",
    "        derivative_state[2] = u * np.sin(psi) + vm * np.cos(psi)\n",
    "        derivative_state[3] = 0\n",
    "        derivative_state[4] = r\n",
    "        derivative_state[5] = - 1/self.T * r + self.K/self.T * delta \n",
    "        derivative_state[6] = linear_delay_ode_rhs(delta, delta_cmd, K=np.deg2rad(20))\n",
    "        return derivative_state\n",
    "\n",
    "    def observe_state(self, np_random = None):\n",
    "        scale = [0.03, 0.01, 0.03, 0.01, np.deg2rad(0.1), np.deg2rad(0.1), 0.0]\n",
    "        return self.additive_normal_noise(self.state, scale, np_random=np_random)\n",
    "\n",
    "    def ship_shape(self, state):\n",
    "        eta = state[[0, 2, 4]]\n",
    "        polygon = rectangle_ship_poly(eta, self.L, self.B)\n",
    "        return polygon\n",
    "\n",
    "    def ship_appearance(self, state):\n",
    "        eta = state[[0, 2, 4]]\n",
    "        polygon = simple_ship_poly(eta, self.L, self.B)\n",
    "        return polygon\n",
    "    \n",
    "\n",
    "ship = MyKTModel()\n",
    "world = pyshipsim.OpenSea()\n",
    "sim = pyshipsim.ManeuveringSimulation(\n",
    "    ship=ship,\n",
    "    world=world,\n",
    "    dt_act=1.0,\n",
    "    dt_sim=0.1,\n",
    "    check_collide=False,\n",
    ")\n",
    "\n",
    "# Define initial state variables\n",
    "x_position_mid = 0.0\n",
    "u_velo = 0.35\n",
    "y_position_mid = -10.0\n",
    "vm_velo = 0.0\n",
    "psi = 0.0\n",
    "r_angvelo = 0.0\n",
    "\n",
    "delta_rudder = 0.0\n",
    "\n",
    "true_wind_speed = 0.2\n",
    "true_wind_direction = np.pi\n",
    "\n",
    "state = np.array([\n",
    "    x_position_mid, u_velo, y_position_mid, vm_velo, psi, r_angvelo,\n",
    "    delta_rudder,\n",
    "    true_wind_speed, true_wind_direction\n",
    "])\n",
    "\n",
    "# reset simulator and get the observation variables\n",
    "observation = sim.reset(state, seed=100)\n",
    "\n",
    "# control law\n",
    "def z_test(t, psi, delta_rudder, delta_rudder_cmd):\n",
    "    DELTA = 35*np.pi/180\n",
    "    if t < 20.0:\n",
    "        delta_rudder_cmd = 0.0\n",
    "    else:\n",
    "        if 0.0 <= delta_rudder:\n",
    "            if DELTA <= psi:\n",
    "                delta_rudder_cmd = -DELTA\n",
    "            else:\n",
    "                delta_rudder_cmd = DELTA\n",
    "        else:\n",
    "            if psi <= -DELTA:\n",
    "                delta_rudder_cmd = DELTA\n",
    "            else:\n",
    "                delta_rudder_cmd = -DELTA\n",
    "    return delta_rudder_cmd\n",
    "\n",
    "# simulation roop\n",
    "delta_rudder_cmd = 0.0\n",
    "n_prop_cmd = 10.0\n",
    "while sim.get_time() < 200:\n",
    "    psi = observation[4]\n",
    "    delta_rudder = observation[6]\n",
    "    delta_rudder_cmd = z_test(sim.get_time(), psi, delta_rudder, delta_rudder_cmd)\n",
    "    action = np.array([delta_rudder_cmd])\n",
    "    observation, terminated, info = sim.step(action)\n",
    "    if terminated:\n",
    "        break\n",
    "\n",
    "# save\n",
    "sim.log2csv(dir='./log/tutorial_create/', fname='zigzag')\n",
    "sim.log2img(dir='./log/tutorial_create/', fname='zigzag', ext_type='png')\n",
    "\n",
    "Image(\"./log/tutorial_create/zigzag_trajectory.png\")\n"
   ]
  },
  {
   "cell_type": "code",
   "execution_count": null,
   "metadata": {},
   "outputs": [],
   "source": []
  }
 ],
 "metadata": {
  "kernelspec": {
   "display_name": "sim",
   "language": "python",
   "name": "python3"
  },
  "language_info": {
   "codemirror_mode": {
    "name": "ipython",
    "version": 3
   },
   "file_extension": ".py",
   "mimetype": "text/x-python",
   "name": "python",
   "nbconvert_exporter": "python",
   "pygments_lexer": "ipython3",
   "version": "3.11.4"
  },
  "orig_nbformat": 4
 },
 "nbformat": 4,
 "nbformat_minor": 2
}
